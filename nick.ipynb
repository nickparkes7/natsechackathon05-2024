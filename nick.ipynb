{
 "cells": [
  {
   "cell_type": "code",
   "execution_count": 31,
   "metadata": {},
   "outputs": [
    {
     "name": "stdout",
     "output_type": "stream",
     "text": [
      "1456\n"
     ]
    }
   ],
   "source": [
    "import pandas as pd\n",
    "import open3d as o3d\n",
    "import numpy as np\n",
    "import glob\n",
    "import pandas as pd\n",
    "import matplotlib.pyplot as plt\n",
    "\n",
    "# # Get a list of all CSV file paths in the directory\n",
    "# csv_files = glob.glob(\"drone_flight_dataset_dedrone/*.csv\")\n",
    "\n",
    "# # Read each CSV file and concatenate the dataframes\n",
    "# dfs = []\n",
    "# for file in csv_files:\n",
    "#     df = pd.read_csv(file)\n",
    "#     dfs.append(df)\n",
    "\n",
    "# # Concatenate all dataframes into a single dataframe\n",
    "# df = pd.concat(dfs, ignore_index=True)\n",
    "\n",
    "# read in drone_flight_dataset_dedrone/2023-05-01_00-00-00_clean.csv\n",
    "df = pd.read_csv('drone_flight_dataset_dedrone/2023-05-01_00-00-00_clean.csv')\n",
    "\n",
    "df['SensorTime'] = pd.to_datetime(df['SensorTime'], format='mixed')\n",
    "\n",
    "# Get unique drone IDs\n",
    "drone_ids = df['DroneId'].unique()\n",
    "\n",
    "print(len(drone_ids))\n",
    "\n",
    "# Loop through each drone ID and assign a flight number to each unique flight\n",
    "for drone_id in drone_ids:\n",
    "    # Filter the dataframe for the current drone ID\n",
    "    filtered_df = df[df['DroneId'] == drone_id]\n",
    "\n",
    "    # sort filtered_df by SensorTime\n",
    "    filtered_df = filtered_df.sort_values('SensorTime')\n",
    "\n",
    "    # Convert the SensorTime column to numpy array\n",
    "    timestamps = filtered_df['SensorTime'].values\n",
    "\n",
    "    # Calculate the time differences between consecutive timestamps\n",
    "    time_diff = np.diff(timestamps)\n",
    "\n",
    "    # Find the indices where the time difference is greater than 30 minutes\n",
    "    split_indices = np.where(time_diff > np.timedelta64(20, 'm'))[0] + 1\n",
    "\n",
    "    # Assign flight IDs based on the split indices\n",
    "    flight_ids = np.zeros(len(timestamps), dtype=int)\n",
    "    current_flight_id = 1\n",
    "    for idx in split_indices:\n",
    "        flight_ids[idx:] = current_flight_id\n",
    "        current_flight_id += 1\n",
    "\n",
    "    # Add the flight_ids column to the DataFrame\n",
    "    filtered_df['FlightNum'] = flight_ids\n",
    "    df.loc[filtered_df.index, 'FlightNum'] = filtered_df['FlightNum']\n",
    "\n",
    "# Create a new column called UniqueFlightId by concatenating DroneId and FlightNum\n",
    "df['UniqueFlightId'] = df['DroneId'] + '_' + df['FlightNum'].astype(int).astype(str)\n"
   ]
  },
  {
   "cell_type": "markdown",
   "metadata": {},
   "source": [
    "We now have unique flight paths. Filter out those with fewer than 100 points"
   ]
  },
  {
   "cell_type": "code",
   "execution_count": null,
   "metadata": {},
   "outputs": [],
   "source": [
    "# Loop through each flight ID\n",
    "flight_ids = df['UniqueFlightId'].unique()\n",
    "\n",
    "for flight_id in flight_ids:\n",
    "    # Filter the dataframe for the current flight ID\n",
    "    filtered_df_flight = df[df['UniqueFlightId'] == flight_id]\n",
    "\n",
    "    if len(filtered_df_flight) < 100:\n",
    "        df = df.drop(filtered_df_flight.index)\n",
    "        continue\n",
    "\n",
    "    # Describe the SensorTime column\n",
    "    print(filtered_df_flight['SensorTime'].describe())\n",
    "\n",
    "    # Plot the time series data with color based on FlightId\n",
    "    plt.scatter(filtered_df_flight['DetectionLatitude'], filtered_df_flight['DetectionLongitude'], c=filtered_df_flight['Altitude'], cmap='viridis', s=10)\n",
    "    plt.xlabel('Longitude')\n",
    "    plt.ylabel('Latitude')\n",
    "    plt.title(f'Altitude vs. Time (Flight ID: {flight_id})')\n",
    "    plt.show()\n",
    "\n",
    "print(len(df['UniqueFlightId'].unique()))"
   ]
  },
  {
   "cell_type": "markdown",
   "metadata": {},
   "source": [
    "# Generate synthetic flight data"
   ]
  },
  {
   "cell_type": "code",
   "execution_count": 3,
   "metadata": {},
   "outputs": [
    {
     "name": "stderr",
     "output_type": "stream",
     "text": [
      "/var/folders/my/znydn6fx7kscknpk2sdn5h3h0000gp/T/ipykernel_26781/2743420716.py:16: FutureWarning: 'S' is deprecated and will be removed in a future version, please use 's' instead.\n",
      "  timestamps = pd.date_range('2024-05-04', periods=51, freq='S')  # Replace '2022-01-01' with the start date you want\n"
     ]
    }
   ],
   "source": [
    "import json\n",
    "import pandas as pd\n",
    "import numpy as np\n",
    "import geopandas as gpd\n",
    "# Load GeoJSON data\n",
    "truedata_df = gpd.read_file('drug.geojson')\n",
    "\n",
    "# Step 1: Generate a sequence of numbers for latitude and longitude\n",
    "latitudes = truedata_df['geometry'].x  # Replace 30, 40 with the range of latitudes you want\n",
    "longitudes = truedata_df['geometry'].y  # Replace -100, -90 with the range of longitudes you want\n",
    "\n",
    "# Step 2: Generate random altitudes\n",
    "altitudes = np.random.uniform(100, 500, 51)  # Replace 100, 500 with the range of altitudes you wants\n",
    "\n",
    "# Step 3: Generate a sequence of timestamps\n",
    "timestamps = pd.date_range('2024-05-04', periods=51, freq='S')  # Replace '2022-01-01' with the start date you want\n",
    "\n",
    "# Step 4: Generate random drone types and drone IDs\n",
    "drone_types = np.random.choice(['Mavic Mini'], 51)  # Replace 'Type1', 'Type2', 'Type3' with the drone types you have\n",
    "drone_ids = np.random.choice(['eiue83jecf1d243944915ed78b4cehen8'], 51)  # Replace 1, 11 with the range of drone IDs you have\n",
    "\n",
    "# Step 5: Generate flight numbers and unique flight IDs\n",
    "unique_flight_ids = np.ones(51)  # 1000 ones\n",
    "\n",
    "# Step 6: Combine all these arrays into a DataFrame\n",
    "df = pd.DataFrame({\n",
    "    'DetectionLatitude': latitudes,\n",
    "    'DetectionLongitude': longitudes,\n",
    "    'Altitude': altitudes,\n",
    "    'SensorTime': timestamps,\n",
    "    'DroneType': drone_types,\n",
    "    'DroneId': drone_ids,\n",
    "    'UniqueFlightId': unique_flight_ids\n",
    "})\n",
    "good_drone_df = df.copy()\n",
    "\n",
    "\n",
    "# create the noisy DataFrames\n",
    "noisy_dfs = []  # List to hold the noisy DataFrames\n",
    "for i in range(1, 6):\n",
    "    # Create a noisy version of good_drone_df for a different drone_id and flight_id\n",
    "    noisy_drone_df = good_drone_df.copy()\n",
    "    noisy_drone_df['DetectionLatitude'] = noisy_drone_df['DetectionLatitude'] + np.random.normal(0, 0.001, len(noisy_drone_df))\n",
    "    noisy_drone_df['DetectionLongitude'] = noisy_drone_df['DetectionLongitude'] + np.random.normal(0, 0.001, len(noisy_drone_df))\n",
    "    noisy_drone_df['Altitude'] = noisy_drone_df['Altitude'] + np.random.normal(0, 0.1, len(noisy_drone_df))\n",
    "    noisy_drone_df['SensorTime'] = noisy_drone_df['SensorTime'] + pd.to_timedelta(np.random.normal(0, 1, len(noisy_drone_df)), unit='s')\n",
    "    noisy_drone_df['DroneId'] = 'eiue83jecf1d243944915ed78b4cehen' + str(i + 8)  # Change the drone ID\n",
    "    noisy_drone_df['UniqueFlightId'] = i + 1  # Change the flight ID\n",
    "\n",
    "    # Append the noisy DataFrame to the list\n",
    "    noisy_dfs.append(noisy_drone_df)\n",
    "\n",
    "# Combine good_drone_df and all the noisy DataFrames\n",
    "df = pd.concat([good_drone_df] + noisy_dfs)\n"
   ]
  },
  {
   "cell_type": "code",
   "execution_count": 7,
   "metadata": {},
   "outputs": [
    {
     "name": "stdout",
     "output_type": "stream",
     "text": [
      "   DetectionLatitude  DetectionLongitude    Altitude          SensorTime  \\\n",
      "0        -122.419400           37.774900  307.105586 2024-05-04 00:00:00   \n",
      "1        -122.417680           37.776602  193.381144 2024-05-04 00:00:01   \n",
      "2        -122.415960           37.778305  112.356850 2024-05-04 00:00:02   \n",
      "3        -122.414240           37.780007  367.805778 2024-05-04 00:00:03   \n",
      "4        -122.412519           37.781710  426.160286 2024-05-04 00:00:04   \n",
      "\n",
      "    DroneType                            DroneId  UniqueFlightId  \n",
      "0  Mavic Mini  eiue83jecf1d243944915ed78b4cehen8             1.0  \n",
      "1  Mavic Mini  eiue83jecf1d243944915ed78b4cehen8             1.0  \n",
      "2  Mavic Mini  eiue83jecf1d243944915ed78b4cehen8             1.0  \n",
      "3  Mavic Mini  eiue83jecf1d243944915ed78b4cehen8             1.0  \n",
      "4  Mavic Mini  eiue83jecf1d243944915ed78b4cehen8             1.0  \n",
      "None\n"
     ]
    }
   ],
   "source": [
    "import geopandas as gpd\n",
    "# save the df to a new csv file\n",
    "# df.to_csv('synthetic_data.csv', index=False)\n",
    "\n",
    "print(df.head())\n",
    "\n",
    "# Create a GeoDataFrame from the latitude and longitude columns\n",
    "gdf = gpd.GeoDataFrame(df, geometry=gpd.points_from_xy(df['DetectionLongitude'], df['DetectionLatitude']))\n",
    "\n",
    "# Convert the GeoDataFrame to GeoJSON format\n",
    "geojson = gdf.to_file('synthetic_data.geojson', driver='GeoJSON')\n",
    "\n",
    "# Print the GeoJSON\n",
    "print(geojson)\n"
   ]
  },
  {
   "cell_type": "code",
   "execution_count": 52,
   "metadata": {},
   "outputs": [],
   "source": [
    "import matplotlib.cm as cm\n",
    "\n",
    "# Create a point cloud object\n",
    "point_cloud = o3d.geometry.PointCloud()\n",
    "\n",
    "# Set the point cloud coordinates\n",
    "point_cloud.points = o3d.utility.Vector3dVector(df[['DetectionLatitude', 'DetectionLongitude', 'Altitude']].values)\n",
    "\n",
    "# Step 1: Normalize the UniqueFlightId column to be between 0 and 1\n",
    "df['NormalizedFlightId'] = (df['UniqueFlightId'] - df['UniqueFlightId'].min()) / (df['UniqueFlightId'].max() - df['UniqueFlightId'].min())\n",
    "\n",
    "# Step 2: Use the normalized UniqueFlightId to create a colormap\n",
    "colors = cm.get_cmap('rainbow')(df['NormalizedFlightId'])\n",
    "\n",
    "# Step 3: Convert the colormap to a Vector3dVector and assign it to the colors attribute of your point cloud\n",
    "point_cloud.colors = o3d.utility.Vector3dVector(colors[:, :3])\n",
    "\n",
    "# Visualize the point cloud\n",
    "o3d.visualization.draw_geometries([point_cloud])"
   ]
  }
 ],
 "metadata": {
  "kernelspec": {
   "display_name": "Python 3",
   "language": "python",
   "name": "python3"
  },
  "language_info": {
   "codemirror_mode": {
    "name": "ipython",
    "version": 3
   },
   "file_extension": ".py",
   "mimetype": "text/x-python",
   "name": "python",
   "nbconvert_exporter": "python",
   "pygments_lexer": "ipython3",
   "version": "3.9.16"
  }
 },
 "nbformat": 4,
 "nbformat_minor": 2
}
